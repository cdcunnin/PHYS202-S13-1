{
 "metadata": {
  "name": "Pledge.md"
 },
 "nbformat": 3,
 "nbformat_minor": 0,
 "worksheets": [
  {
   "cells": [
    {
     "cell_type": "markdown",
     "metadata": {},
     "source": [
      "Academic Honesty Pledge\n",
      "=\n",
      "Cal Poly PHYS 202 - Spring 2013\n",
      "-\n",
      "I have read and understand the rules regarding academic honesty and I agree to abide by them. I pledge on my honor that I have not given or received any unauthorized assistance on assignments or ex- aminations in this course.\n",
      "Signed: Molly Totten Dated: 7 May 2013"
     ]
    },
    {
     "cell_type": "code",
     "collapsed": false,
     "input": [],
     "language": "python",
     "metadata": {},
     "outputs": []
    }
   ],
   "metadata": {}
  }
 ]
}