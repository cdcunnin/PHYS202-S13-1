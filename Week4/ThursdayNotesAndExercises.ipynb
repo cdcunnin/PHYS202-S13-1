{
 "metadata": {
  "name": "ThursdayNotesAndExercises"
 },
 "nbformat": 3,
 "nbformat_minor": 0,
 "worksheets": [
  {
   "cells": [
    {
     "cell_type": "code",
     "collapsed": false,
     "input": [
      "from Electrostatics import *"
     ],
     "language": "python",
     "metadata": {},
     "outputs": [],
     "prompt_number": "*"
    },
    {
     "cell_type": "code",
     "collapsed": false,
     "input": [
      "\n",
      "x = arange(-10.,10.,.01)\n",
      "y = arange(-10.,10.,.01)\n",
      "\n",
      "X,Y = meshgrid(x,y)\n",
      "a = pointPotential(X,Y,-2e-9,0.,-.005)\n",
      "b = dipolePotential(X,Y,3e-9,.001)\n",
      "\n",
      "q=1e-19\n",
      "from mpl_toolkits.mplot3d import Axes3D\n",
      "fig = figure()\n",
      "ax = fig.gca(projection='3d')\n",
      "ax.plot_surface(X,Y,a, rstride=1, cstride=1, linewidth=0, cmap=cm.gist_stern)\n"
     ],
     "language": "python",
     "metadata": {},
     "outputs": [],
     "prompt_number": "*"
    },
    {
     "cell_type": "code",
     "collapsed": false,
     "input": [],
     "language": "python",
     "metadata": {},
     "outputs": [],
     "prompt_number": "*"
    },
    {
     "cell_type": "code",
     "collapsed": false,
     "input": [],
     "language": "python",
     "metadata": {},
     "outputs": []
    }
   ],
   "metadata": {}
  }
 ]
}