{
 "metadata": {
  "name": "InterpAndDiffEx3"
 },
 "nbformat": 3,
 "nbformat_minor": 0,
 "worksheets": [
  {
   "cells": [
    {
     "cell_type": "markdown",
     "metadata": {},
     "source": [
      "Interpolation and Numerical Differentiation, Exercise 3\n",
      "="
     ]
    },
    {
     "cell_type": "markdown",
     "metadata": {},
     "source": [
      "Question 1\n",
      "-"
     ]
    },
    {
     "cell_type": "code",
     "collapsed": false,
     "input": [
      "from Electrostatics import *\n",
      "x,y = meshgrid(arange(-5,5,0.5),arange(-5,5,0.5))\n",
      "Vdipole = dipolePotential(x,y,1e-9,2.);\n",
      "contour(x,y,Vdipole,cmap=cm.OrRd)"
     ],
     "language": "python",
     "metadata": {},
     "outputs": [
      {
       "output_type": "pyout",
       "prompt_number": 1,
       "text": [
        "<matplotlib.contour.QuadContourSet instance at 0x7f47f40ce998>"
       ]
      },
      {
       "output_type": "display_data",
       "png": "[encoded data removed]"
      }
     ],
     "prompt_number": 1
    },
    {
     "cell_type": "code",
     "collapsed": false,
     "input": [
      "mask = (y==0) #part a. setting up the mask for y=0\n",
      "print mask\n",
      "print Vdipole[mask] # part b. printing mask values of Vdipole"
     ],
     "language": "python",
     "metadata": {},
     "outputs": [
      {
       "output_type": "stream",
       "stream": "stdout",
       "text": [
        "[[False False False False False False False False False False False False\n",
        "  False False False False False False False False]\n",
        " [False False False False False False False False False False False False\n",
        "  False False False False False False False False]\n",
        " [False False False False False False False False False False False False\n",
        "  False False False False False False False False]\n",
        " [False False False False False False False False False False False False\n",
        "  False False False False False False False False]\n",
        " [False False False False False False False False False False False False\n",
        "  False False False False False False False False]\n",
        " [False False False False False False False False False False False False\n",
        "  False False False False False False False False]\n",
        " [False False False False False False False False False False False False\n",
        "  False False False False False False False False]\n",
        " [False False False False False False False False False False False False\n",
        "  False False False False False False False False]\n",
        " [False False False False False False False False False False False False\n",
        "  False False False False False False False False]\n",
        " [False False False False False False False False False False False False\n",
        "  False False False False False False False False]\n",
        " [ True  True  True  True  True  True  True  True  True  True  True  True\n",
        "   True  True  True  True  True  True  True  True]\n",
        " [False False False False False False False False False False False False\n",
        "  False False False False False False False False]\n",
        " [False False False False False False False False False False False False\n",
        "  False False False False False False False False]\n",
        " [False False False False False False False False False False False False\n",
        "  False False False False False False False False]\n",
        " [False False False False False False False False False False False False\n",
        "  False False False False False False False False]\n",
        " [False False False False False False False False False False False False\n",
        "  False False False False False False False False]\n",
        " [False False False False False False False False False False False False\n",
        "  False False False False False False False False]\n",
        " [False False False False False False False False False False False False\n",
        "  False False False False False False False False]\n",
        " [False False False False False False False False False False False False\n",
        "  False False False False False False False False]\n",
        " [False False False False False False False False False False False False\n",
        "  False False False False False False False False]]\n",
        "[ 0.  0.  0.  0.  0.  0.  0.  0.  0.  0.  0.  0.  0.  0.  0.  0.  0.  0.\n",
        "  0.  0.]\n"
       ]
      }
     ],
     "prompt_number": 4
    },
    {
     "cell_type": "markdown",
     "metadata": {},
     "source": [
      "Question 2\n",
      "-"
     ]
    },
    {
     "cell_type": "code",
     "collapsed": false,
     "input": [
      "def Temp(Resistance):\n",
      "    \"\"\"gives the temperature for a giver resistance value\"\"\"# part a. defining my function\n",
      "    if Resistance == 3.239:\n",
      "        Temperature = 10\n",
      "    elif Resistance == 3.118:\n",
      "        Temperature = 11\n",
      "    elif Resistance == 3.004:\n",
      "        Temperature = 12\n",
      "    elif Resistance == 2.897:\n",
      "        Temperature = 13\n",
      "    elif Resistance == 2.795:\n",
      "        Temperature = 14\n",
      "    elif Resistance == 2.700:\n",
      "        Temperature = 15\n",
      "    elif Resistance == 2.610:\n",
      "        Temperature = 16\n",
      "    elif Resistance == 2.526:\n",
      "        Temperature = 17\n",
      "    elif Resistance == 2.446:\n",
      "        Temperature = 18\n",
      "    elif Resistance == 2.371:\n",
      "        Temperature = 19\n",
      "    elif Resistance == 2.300:\n",
      "        Temperature = 20\n",
      "    elif Resistance == 2.233:\n",
      "        Temperature = 21\n",
      "    elif Resistance == 2.169:\n",
      "        Temperature = 22\n",
      "    elif Resistance == 2.110:\n",
      "        Temperature = 23\n",
      "    elif Resistance == 2.053:\n",
      "        Temperature = 24\n",
      "    elif Resistance == 2.000:\n",
      "        Temperature = 25\n",
      "    elif Resistance == 1.950:\n",
      "        Temperature = 26\n",
      "    elif Resistance == 1.902:\n",
      "        Temperature = 27\n",
      "    elif Resistance == 1.857:\n",
      "        Temperature = 28\n",
      "    elif Resistance == 1.815:\n",
      "        Temperature = 29 \n",
      "    elif Resistance == 1.774:\n",
      "        Temperature = 30\n",
      "    elif Resistance == 1.736:\n",
      "        Temperature = 31\n",
      "    elif Resistance == 1.700:\n",
      "        Temperature = 32\n",
      "    elif Resistance == 1.666:\n",
      "        Temperature = 33\n",
      "    elif Resistance == 1.634:\n",
      "        Temperature = 34\n",
      "    elif Resistance == 1.603:\n",
      "        Temperature = 35\n",
      "    elif Resistance == 1.574:\n",
      "        Temperature = 36\n",
      "    elif Resistance == 1.547:\n",
      "        Temperature = 37\n",
      "    elif Resistance == 1.521:\n",
      "        Temperature = 38\n",
      "    elif Resistance == 1.496:\n",
      "        Temperature = 39\n",
      "    else:\n",
      "        Temperature = 'Not Valid'\n",
      "    return Temperature\n",
      "print Temp(2.000) # part b. printing some example values\n",
      "print Temp(1.815)\n",
      "print Temp(1.574)\n",
      "    "
     ],
     "language": "python",
     "metadata": {},
     "outputs": [
      {
       "output_type": "stream",
       "stream": "stdout",
       "text": [
        "25\n",
        "29\n",
        "36\n"
       ]
      }
     ],
     "prompt_number": 21
    },
    {
     "cell_type": "code",
     "collapsed": false,
     "input": [
      "x = [10,11,12,13,14,15,16,17,18,19,20,21,22,23,24,25,26,27,28,29,30,31,32,33,34,35,36,37,38,39]\n",
      "a = [3.239, 3.118, 3.004, 2.897, 2.795, 2.700, 2.610, 2.526, 2.446, 2.371, 2.300, 2.233, 2.169, 2.110, 2.053, 2.000, 1.950, 1.902, 1.857, 1.815, 1.7774, 1.736, 1.700, 1.666, 1.634, 1.603, 1.574, 1.547, 1.521, 1.496]\n",
      "\n",
      "plot(x,a, 'r', linewidth=3)\n",
      "ylabel('Resistance(M Ohms)')\n",
      "xlabel('Temperature (Degrees Celcius)')\n",
      "show()"
     ],
     "language": "python",
     "metadata": {},
     "outputs": [
      {
       "output_type": "display_data",
       "png": "[encoded data removed]"
      }
     ],
     "prompt_number": 44
    },
    {
     "cell_type": "markdown",
     "metadata": {},
     "source": [
      "Question 3\n",
      "="
     ]
    },
    {
     "cell_type": "code",
     "collapsed": false,
     "input": [
      "#part a.\n",
      "def finiteDifference(x,y):\n",
      "    \"\"\"takes x and y inputs and computes the derivative\"\"\"\n",
      "    dydx = zeros(y.shape,float)\n",
      "    dydx[0] = (y[1]-y[0])/(x[1]-x[0])\n",
      "    dydx[1:-1] = (y[2:])/(x[2:]-x[:2])\n",
      "    dydx[-1] = (y[-1]-y[-2])/(x[-1]-x[-2])\n",
      "    return dydx"
     ],
     "language": "python",
     "metadata": {},
     "outputs": [],
     "prompt_number": 46
    },
    {
     "cell_type": "code",
     "collapsed": false,
     "input": [
      "#part b.\n",
      "y = x ** 5\n",
      "x = arange(0.,10.01,.1)\n",
      "plot(x,finiteDifference(x,y))"
     ],
     "language": "python",
     "metadata": {},
     "outputs": [
      {
       "ename": "TypeError",
       "evalue": "unsupported operand type(s) for ** or pow(): 'list' and 'int'",
       "output_type": "pyerr",
       "traceback": [
        "\u001b[1;31m---------------------------------------------------------------------------\u001b[0m\n\u001b[1;31mTypeError\u001b[0m                                 Traceback (most recent call last)",
        "\u001b[1;32m<ipython-input-48-260828fd3f15>\u001b[0m in \u001b[0;36m<module>\u001b[1;34m()\u001b[0m\n\u001b[0;32m      1\u001b[0m \u001b[1;31m#part b.\u001b[0m\u001b[1;33m\u001b[0m\u001b[1;33m\u001b[0m\u001b[0m\n\u001b[1;32m----> 2\u001b[1;33m \u001b[0my\u001b[0m \u001b[1;33m=\u001b[0m \u001b[0mx\u001b[0m\u001b[1;33m**\u001b[0m\u001b[1;36m5\u001b[0m\u001b[1;33m\u001b[0m\u001b[0m\n\u001b[0m\u001b[0;32m      3\u001b[0m \u001b[0mx\u001b[0m \u001b[1;33m=\u001b[0m \u001b[0marange\u001b[0m\u001b[1;33m(\u001b[0m\u001b[1;36m0.\u001b[0m\u001b[1;33m,\u001b[0m\u001b[1;36m10.01\u001b[0m\u001b[1;33m,\u001b[0m\u001b[1;36m.1\u001b[0m\u001b[1;33m)\u001b[0m\u001b[1;33m\u001b[0m\u001b[0m\n\u001b[0;32m      4\u001b[0m \u001b[0mplot\u001b[0m\u001b[1;33m(\u001b[0m\u001b[0mx\u001b[0m\u001b[1;33m,\u001b[0m\u001b[0mfiniteDifference\u001b[0m\u001b[1;33m(\u001b[0m\u001b[0mx\u001b[0m\u001b[1;33m,\u001b[0m\u001b[0my\u001b[0m\u001b[1;33m)\u001b[0m\u001b[1;33m)\u001b[0m\u001b[1;33m\u001b[0m\u001b[0m\n",
        "\u001b[1;31mTypeError\u001b[0m: unsupported operand type(s) for ** or pow(): 'list' and 'int'"
       ]
      }
     ],
     "prompt_number": 48
    },
    {
     "cell_type": "markdown",
     "metadata": {},
     "source": [
      "Qustion 4\n",
      "="
     ]
    },
    {
     "cell_type": "code",
     "collapsed": false,
     "input": [
      "x = linspace(0,2*pi,100) #part a. \n",
      "y = sin(x) + 0.1*random.random(size=x.shape)\n",
      "plot(x,y)"
     ],
     "language": "python",
     "metadata": {},
     "outputs": [
      {
       "output_type": "pyout",
       "prompt_number": 37,
       "text": [
        "[<matplotlib.lines.Line2D at 0x36aacd0>]"
       ]
      },
      {
       "output_type": "display_data",
       "png": "[encoded data removed]"
      }
     ],
     "prompt_number": 37
    },
    {
     "cell_type": "code",
     "collapsed": false,
     "input": [],
     "language": "python",
     "metadata": {},
     "outputs": []
    }
   ],
   "metadata": {}
  }
 ]
}