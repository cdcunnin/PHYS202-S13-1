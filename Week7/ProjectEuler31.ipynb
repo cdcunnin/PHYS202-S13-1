{
 "metadata": {
  "name": "ProjectEuler31"
 },
 "nbformat": 3,
 "nbformat_minor": 0,
 "worksheets": [
  {
   "cells": [
    {
     "cell_type": "markdown",
     "metadata": {},
     "source": [
      "Coin Sums\n",
      "-\n",
      "In England the currency is made up of pound, \u00a3, and pence, p, and there are eight coins in general circulation:\n",
      "\n",
      "1p, 2p, 5p, 10p, 20p, 50p, \u00a31 (100p) and \u00a32 (200p).\n",
      "It is possible to make \u00a32 in the following way:\n",
      "\n",
      "1\u00a31 + 150p + 220p + 15p + 12p + 31p\n",
      "How many different ways can \u00a32 be made using any number of coins?"
     ]
    },
    {
     "cell_type": "code",
     "collapsed": false,
     "input": [
      "total = 200\n",
      "denomination = [1,2,5,10,20,50,100,200]\n",
      "combination = [1]+[0]*total\n",
      " \n",
      "for i in denomination:\n",
      "  for k in range(i, total+1):\n",
      "    combination[k] += combination[k-i]\n",
      " \n",
      "print \"Number of ways = \", combination[total]"
     ],
     "language": "python",
     "metadata": {},
     "outputs": [
      {
       "output_type": "stream",
       "stream": "stdout",
       "text": [
        "Number of ways =  73682\n"
       ]
      }
     ],
     "prompt_number": 3
    },
    {
     "cell_type": "code",
     "collapsed": false,
     "input": [],
     "language": "python",
     "metadata": {},
     "outputs": []
    }
   ],
   "metadata": {}
  }
 ]
}