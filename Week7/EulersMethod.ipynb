{
 "metadata": {
  "name": "EulersMethod"
 },
 "nbformat": 3,
 "nbformat_minor": 0,
 "worksheets": [
  {
   "cells": [
    {
     "cell_type": "markdown",
     "metadata": {},
     "source": [
      "Question 1\n",
      "="
     ]
    },
    {
     "cell_type": "code",
     "collapsed": false,
     "input": [
      "from math import *\n",
      "def diff(x,y):\n",
      "    a = x + 2*y\n",
      "    return a\n",
      "def Eulerint(h,initial,final,function):\n",
      "    xloc = []\n",
      "    yloc = []\n",
      "    for k in range(int((final/h)+1)):\n",
      "        xloc.append(k)\n",
      "        yloc.append(k)\n",
      "    xloc[0] = initial[0] \n",
      "    yloc[0] = initial[1]\n",
      "    for k in range(int((final/h)+1)):\n",
      "        if k<1:\n",
      "            pass\n",
      "        if k>0:\n",
      "            xloc[k] = xloc[k-1] + h\n",
      "            yloc[k] = (yloc[k-1] + h*(diff(xloc[k-1],yloc[k-1])))\n",
      "            value = [xloc,yloc]\n",
      "            return value\n",
      " \n"
     ],
     "language": "python",
     "metadata": {},
     "outputs": [],
     "prompt_number": 30
    },
    {
     "cell_type": "code",
     "collapsed": false,
     "input": [
      "from math import *\n",
      "def diff(x,y):\n",
      "    a = x + 2*y\n",
      "    return a\n",
      "def Eulerint(h,initial,final,function):\n",
      "    xloc = []\n",
      "    yloc = []\n",
      "    for k in range(int((final/h)+1)):\n",
      "        xloc.append(k)\n",
      "        yloc.append(k)\n",
      "    xloc[0] = initial[0] \n",
      "    yloc[0] = initial[1]\n",
      "    for k in range(int((final/h)+1)):\n",
      "        if k<1:\n",
      "            pass\n",
      "        if k>0:\n",
      "            xloc[k] = xloc[k-1] + h\n",
      "            yloc[k] = (yloc[k-1] + h*(diff(xloc[k-1],yloc[k-1])))\n",
      "            value = [xloc,yloc]\n",
      "            return value\n",
      "    print value\n",
      "x = 1\n",
      "H = 0.2\n",
      "Initial = [0.0, 3.0]\n",
      "Final = 1.0        \n",
      "Answer = Eulerint(H, Initial, Final,(diff(Initial[0],Initial[1])))\n",
      "for a in range(len(Answer[1])):\n",
      "    print Answer  "
     ],
     "language": "python",
     "metadata": {},
     "outputs": [
      {
       "output_type": "stream",
       "stream": "stdout",
       "text": [
        "[[0.0, 0.2, 2, 3, 4, 5], [3.0, 4.2, 2, 3, 4, 5]]\n",
        "[[0.0, 0.2, 2, 3, 4, 5], [3.0, 4.2, 2, 3, 4, 5]]\n",
        "[[0.0, 0.2, 2, 3, 4, 5], [3.0, 4.2, 2, 3, 4, 5]]\n",
        "[[0.0, 0.2, 2, 3, 4, 5], [3.0, 4.2, 2, 3, 4, 5]]\n",
        "[[0.0, 0.2, 2, 3, 4, 5], [3.0, 4.2, 2, 3, 4, 5]]\n",
        "[[0.0, 0.2, 2, 3, 4, 5], [3.0, 4.2, 2, 3, 4, 5]]\n"
       ]
      }
     ],
     "prompt_number": 33
    },
    {
     "cell_type": "code",
     "collapsed": false,
     "input": [
      "t_max = 10 # maximum time\n",
      "h = 0.1 # time step\n",
      "g = -9.81\n",
      "n_steps = int(t_max/h)\n",
      "t = zeros(n_steps)\n",
      "v = zeros(n_steps)\n",
      " \n",
      "# set initial conditions\n",
      "t[0] = 0\n",
      "v[0] = 0\n",
      " \n",
      "for i in range(1,n_steps):\n",
      "    t[i] = t[i-1] + h\n",
      "    v[i] = v[i-1] + h \n",
      "for i in range(1,n_steps):\n",
      "    t[i] = t[i-1] + h\n",
      "    y[i] = 2*y[i-1] + x\n",
      "    x[i] = x[i-1] + h "
     ],
     "language": "python",
     "metadata": {},
     "outputs": [
      {
       "ename": "NameError",
       "evalue": "name 'y' is not defined",
       "output_type": "pyerr",
       "traceback": [
        "\u001b[0;31m---------------------------------------------------------------------------\u001b[0m\n\u001b[0;31mNameError\u001b[0m                                 Traceback (most recent call last)",
        "\u001b[0;32m<ipython-input-34-67d3d68a7a9c>\u001b[0m in \u001b[0;36m<module>\u001b[0;34m()\u001b[0m\n\u001b[1;32m     15\u001b[0m \u001b[0;32mfor\u001b[0m \u001b[0mi\u001b[0m \u001b[0;32min\u001b[0m \u001b[0mrange\u001b[0m\u001b[0;34m(\u001b[0m\u001b[0;36m1\u001b[0m\u001b[0;34m,\u001b[0m\u001b[0mn_steps\u001b[0m\u001b[0;34m)\u001b[0m\u001b[0;34m:\u001b[0m\u001b[0;34m\u001b[0m\u001b[0m\n\u001b[1;32m     16\u001b[0m     \u001b[0mt\u001b[0m\u001b[0;34m[\u001b[0m\u001b[0mi\u001b[0m\u001b[0;34m]\u001b[0m \u001b[0;34m=\u001b[0m \u001b[0mt\u001b[0m\u001b[0;34m[\u001b[0m\u001b[0mi\u001b[0m\u001b[0;34m-\u001b[0m\u001b[0;36m1\u001b[0m\u001b[0;34m]\u001b[0m \u001b[0;34m+\u001b[0m \u001b[0mh\u001b[0m\u001b[0;34m\u001b[0m\u001b[0m\n\u001b[0;32m---> 17\u001b[0;31m     \u001b[0my\u001b[0m\u001b[0;34m[\u001b[0m\u001b[0mi\u001b[0m\u001b[0;34m]\u001b[0m \u001b[0;34m=\u001b[0m \u001b[0;36m2\u001b[0m\u001b[0;34m*\u001b[0m\u001b[0my\u001b[0m\u001b[0;34m[\u001b[0m\u001b[0mi\u001b[0m\u001b[0;34m-\u001b[0m\u001b[0;36m1\u001b[0m\u001b[0;34m]\u001b[0m \u001b[0;34m+\u001b[0m \u001b[0mx\u001b[0m\u001b[0;34m\u001b[0m\u001b[0m\n\u001b[0m\u001b[1;32m     18\u001b[0m     \u001b[0mx\u001b[0m\u001b[0;34m[\u001b[0m\u001b[0mi\u001b[0m\u001b[0;34m]\u001b[0m \u001b[0;34m=\u001b[0m \u001b[0mx\u001b[0m\u001b[0;34m[\u001b[0m\u001b[0mi\u001b[0m\u001b[0;34m-\u001b[0m\u001b[0;36m1\u001b[0m\u001b[0;34m]\u001b[0m \u001b[0;34m+\u001b[0m \u001b[0mh\u001b[0m\u001b[0;34m\u001b[0m\u001b[0m\n",
        "\u001b[0;31mNameError\u001b[0m: name 'y' is not defined"
       ]
      }
     ],
     "prompt_number": 34
    },
    {
     "cell_type": "code",
     "collapsed": false,
     "input": [
      "https://alexandria.astro.cf.ac.uk/Joomla-python/index.php/week8-euler"
     ],
     "language": "python",
     "metadata": {},
     "outputs": []
    }
   ],
   "metadata": {}
  }
 ]
}