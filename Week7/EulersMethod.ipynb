{
 "metadata": {
  "name": "EulersMethod"
 },
 "nbformat": 3,
 "nbformat_minor": 0,
 "worksheets": [
  {
   "cells": [
    {
     "cell_type": "markdown",
     "metadata": {},
     "source": [
      "Example 1\n",
      "="
     ]
    },
    {
     "cell_type": "code",
     "collapsed": false,
     "input": [
      "\n",
      " \n"
     ],
     "language": "python",
     "metadata": {},
     "outputs": [],
     "prompt_number": 30
    },
    {
     "cell_type": "code",
     "collapsed": false,
     "input": [
      "\n",
      "time = 10 # maximum time\n",
      "step = 0.1 # time step\n",
      "g = -9.81\n",
      "step_numbers = int(time/step)\n",
      "t = zeros(step_numbers)\n",
      "v = zeros(step_numbers)\n",
      " \n",
      "# set initial conditions\n",
      "t[0] = 0\n",
      "v[0] = 0\n",
      " \n",
      "for i in range(1,n_steps):\n",
      "    t[i] = t[i-1] + step\n",
      "    v[i] = v[i-1] + step * g\n"
     ],
     "language": "python",
     "metadata": {},
     "outputs": [],
     "prompt_number": 2
    },
    {
     "cell_type": "markdown",
     "metadata": {},
     "source": [
      "Question 1\n",
      "="
     ]
    },
    {
     "cell_type": "code",
     "collapsed": false,
     "input": [
      "from math import *\n",
      "def diff(x,y):\n",
      "    a = x + 2*y\n",
      "    return a\n",
      "def Eulerint(h,initial,final,function):\n",
      "    xloc = []\n",
      "    yloc = []\n",
      "    for k in range(int((final/h)+1)):\n",
      "        xloc.append(k)\n",
      "        yloc.append(k)\n",
      "    xloc[0] = initial[0] \n",
      "    yloc[0] = initial[1]\n",
      "    for k in range(int((final/h)+1)):\n",
      "        if k<1:\n",
      "            pass\n",
      "        if k>0:\n",
      "            xloc[k] = xloc[k-1] + h\n",
      "            yloc[k] = (yloc[k-1] + h*(diff(xloc[k-1],yloc[k-1])))\n",
      "            value = [xloc,yloc]\n",
      "            return value"
     ],
     "language": "python",
     "metadata": {},
     "outputs": [],
     "prompt_number": 3
    },
    {
     "cell_type": "code",
     "collapsed": false,
     "input": [],
     "language": "python",
     "metadata": {},
     "outputs": []
    },
    {
     "cell_type": "code",
     "collapsed": false,
     "input": [],
     "language": "python",
     "metadata": {},
     "outputs": []
    }
   ],
   "metadata": {}
  }
 ]
}