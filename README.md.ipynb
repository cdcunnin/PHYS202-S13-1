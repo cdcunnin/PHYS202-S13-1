{
 "metadata": {
  "name": "README.md"
 },
 "nbformat": 3,
 "nbformat_minor": 0,
 "worksheets": [
  {
   "cells": [
    {
     "cell_type": "code",
     "collapsed": false,
     "input": [
      "For the project, I am choosing topic 4, 3D Pattern Recognition.\n",
      "Molly Totten\n",
      "May 16, 2013"
     ],
     "language": "python",
     "metadata": {},
     "outputs": []
    }
   ],
   "metadata": {}
  }
 ]
}