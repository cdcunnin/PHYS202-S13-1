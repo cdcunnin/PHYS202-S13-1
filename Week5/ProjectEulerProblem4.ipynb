{
 "metadata": {
  "name": "ProjectEulerProblem4"
 },
 "nbformat": 3,
 "nbformat_minor": 0,
 "worksheets": [
  {
   "cells": [
    {
     "cell_type": "markdown",
     "metadata": {},
     "source": [
      "Largest Palindrome Product\n",
      "="
     ]
    },
    {
     "cell_type": "markdown",
     "metadata": {},
     "source": [
      "Palindromic number reads the same both ways. The largest palindrome made from the product of two 2-digit numbers is 9009 = 91 \u00d7 99.\n",
      "-\n",
      "Find the largest palindrome made from the product of two 3-digit numbers.\n",
      "-"
     ]
    },
    {
     "cell_type": "code",
     "collapsed": false,
     "input": [
      "c = 0\n",
      "for x in range(100,999):\n",
      "    for y in range(x+1,1000):\n",
      "        a = x * y\n",
      "        if a > c:\n",
      "            b = str(x * y)\n",
      "            if b == b[:]:\n",
      "                c = x * y\n",
      "print c                \n",
      "                \n",
      "               \n",
      "               "
     ],
     "language": "python",
     "metadata": {},
     "outputs": [
      {
       "output_type": "stream",
       "stream": "stdout",
       "text": [
        "997002\n"
       ]
      }
     ],
     "prompt_number": 1
    },
    {
     "cell_type": "code",
     "collapsed": false,
     "input": [],
     "language": "python",
     "metadata": {},
     "outputs": []
    }
   ],
   "metadata": {}
  }
 ]
}