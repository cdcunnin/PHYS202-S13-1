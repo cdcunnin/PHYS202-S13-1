{
 "metadata": {
  "name": "TuesdayExercises"
 },
 "nbformat": 3,
 "nbformat_minor": 0,
 "worksheets": [
  {
   "cells": [
    {
     "cell_type": "markdown",
     "metadata": {},
     "source": [
      "Exercise 1\n",
      "="
     ]
    },
    {
     "cell_type": "code",
     "collapsed": false,
     "input": [
      "f = lambda x: x**4 -2*x + 1"
     ],
     "language": "python",
     "metadata": {},
     "outputs": [],
     "prompt_number": 1
    },
    {
     "cell_type": "code",
     "collapsed": false,
     "input": [
      "N = 10\n",
      "a = 0.0\n",
      "b = 2.0\n",
      "h = (b-a)/N\n",
      "s = 0.5*f(a) + 0.5*f(b)\n",
      "for k in range (1,N):\n",
      "    s += f(a+k*h)\n",
      "print (h*s)    "
     ],
     "language": "python",
     "metadata": {},
     "outputs": [
      {
       "output_type": "stream",
       "stream": "stdout",
       "text": [
        "4.50656\n"
       ]
      }
     ],
     "prompt_number": 2
    },
    {
     "cell_type": "code",
     "collapsed": false,
     "input": [
      "N = 100\n",
      "a = 0.0\n",
      "b = 2.0\n",
      "h = (b-a)/N\n",
      "s = 0.5*f(a) + 0.5*f(b)\n",
      "for k in range (1,N):\n",
      "    s += f(a+k*h)\n",
      "print (h*s)    "
     ],
     "language": "python",
     "metadata": {},
     "outputs": [
      {
       "output_type": "stream",
       "stream": "stdout",
       "text": [
        "4.401066656\n"
       ]
      }
     ],
     "prompt_number": 3
    },
    {
     "cell_type": "code",
     "collapsed": false,
     "input": [
      "N = 1000\n",
      "a = 0.0\n",
      "b = 2.0\n",
      "h = (b-a)/N\n",
      "s = 0.5*f(a) + 0.5*f(b)\n",
      "for k in range (1,N):\n",
      "    s += f(a+k*h)\n",
      "print (h*s)    "
     ],
     "language": "python",
     "metadata": {},
     "outputs": [
      {
       "output_type": "stream",
       "stream": "stdout",
       "text": [
        "4.40001066667\n"
       ]
      }
     ],
     "prompt_number": 4
    },
    {
     "cell_type": "markdown",
     "metadata": {},
     "source": [
      "Exercise 2\n",
      "=\n",
      "part a. \n",
      "-"
     ]
    },
    {
     "cell_type": "code",
     "collapsed": false,
     "input": [
      "N = 10 \n",
      "a = 0.0\n",
      "b = 2.0\n",
      "\n",
      "h = (b-a)/N\n",
      "s = f(a) + f(b)\n",
      "for k in range (1,N/2 +1):\n",
      "   s+= 4 * f(a + h*(2*k-1))\n",
      "l = (h*s) / 3\n",
      "w = 0\n",
      "for k in range (1, N/2):\n",
      "    w += 2 * f(a + 2*k*h) \n",
      "b = (h*w) / 3   \n",
      "print (l + b) "
     ],
     "language": "python",
     "metadata": {},
     "outputs": [
      {
       "output_type": "stream",
       "stream": "stdout",
       "text": [
        "4.40042666667\n"
       ]
      }
     ],
     "prompt_number": 17
    },
    {
     "cell_type": "markdown",
     "metadata": {},
     "source": [
      "part b.\n",
      "-"
     ]
    },
    {
     "cell_type": "code",
     "collapsed": false,
     "input": [
      "error = (4.4 - 4.4004)/4.4\n",
      "print abs(error)\n"
     ],
     "language": "python",
     "metadata": {},
     "outputs": [
      {
       "output_type": "stream",
       "stream": "stdout",
       "text": [
        "9.09090909091e-05\n"
       ]
      }
     ],
     "prompt_number": 36
    },
    {
     "cell_type": "markdown",
     "metadata": {},
     "source": [
      "part c.\n",
      "-"
     ]
    },
    {
     "cell_type": "code",
     "collapsed": false,
     "input": [
      "N = 100 \n",
      "a = 0.0\n",
      "b = 2.0\n",
      "\n",
      "h = (b-a)/N\n",
      "s = f(a) + f(b)\n",
      "for k in range (1,N/2 +1):\n",
      "   s+= 4 * f(a + h*(2*k-1))\n",
      "l = (h*s) / 3\n",
      "w = 0\n",
      "for k in range (1, N/2):\n",
      "    w += 2 * f(a + 2*k*h) \n",
      "b = (h*w) / 3   \n",
      "print (l + b) "
     ],
     "language": "python",
     "metadata": {},
     "outputs": [
      {
       "output_type": "stream",
       "stream": "stdout",
       "text": [
        "4.40000004267\n"
       ]
      }
     ],
     "prompt_number": 37
    },
    {
     "cell_type": "code",
     "collapsed": false,
     "input": [
      "N = 1000 \n",
      "a = 0.0\n",
      "b = 2.0\n",
      "\n",
      "h = (b-a)/N\n",
      "s = f(a) + f(b)\n",
      "for k in range (1,N/2 +1):\n",
      "   s+= 4 * f(a + h*(2*k-1))\n",
      "l = (h*s) / 3\n",
      "w = 0\n",
      "for k in range (1, N/2):\n",
      "    w += 2 * f(a + 2*k*h) \n",
      "b = (h*w) / 3   \n",
      "print (l + b) "
     ],
     "language": "python",
     "metadata": {},
     "outputs": [
      {
       "output_type": "stream",
       "stream": "stdout",
       "text": [
        "4.4\n"
       ]
      }
     ],
     "prompt_number": 38
    },
    {
     "cell_type": "markdown",
     "metadata": {},
     "source": [
      "The results for Simpson's rule are closer to the actual value than the trapeziodal rule.\n",
      "The results for Simpson's rule get closer to the actual value with increasing N values"
     ]
    },
    {
     "cell_type": "markdown",
     "metadata": {},
     "source": [
      "Exercise 3\n",
      "=\n",
      "part a. and b.\n",
      "-"
     ]
    },
    {
     "cell_type": "code",
     "collapsed": false,
     "input": [
      "import scipy.integrate as integrate\n",
      "speed = loadtxt(\"velocities.txt\",float)\n",
      "t = speed[:,0]\n",
      "v = speed[:,1]\n",
      "A = integrate.trapz(v,t)"
     ],
     "language": "python",
     "metadata": {},
     "outputs": [],
     "prompt_number": 39
    },
    {
     "cell_type": "code",
     "collapsed": false,
     "input": [
      "import scipy.integrate as integrate\n",
      "speed = loadtxt(\"velocities.txt\",float)\n",
      "t = speed[:,0]\n",
      "v = speed[:,1]\n",
      "B = integrate.simps(v,t)"
     ],
     "language": "python",
     "metadata": {},
     "outputs": [],
     "prompt_number": 40
    },
    {
     "cell_type": "code",
     "collapsed": false,
     "input": [
      "import scipy.integrate as integrate\n",
      "speed = loadtxt(\"velocities.txt\",float)\n",
      "t = speed[:,0]\n",
      "v = speed[:,1]\n",
      "C = integrate.romb(v,dx=1.0)"
     ],
     "language": "python",
     "metadata": {},
     "outputs": [
      {
       "ename": "ValueError",
       "evalue": "Number of samples must be one plus a non-negative power of 2.",
       "output_type": "pyerr",
       "traceback": [
        "\u001b[0;31m---------------------------------------------------------------------------\u001b[0m\n\u001b[0;31mValueError\u001b[0m                                Traceback (most recent call last)",
        "\u001b[0;32m<ipython-input-41-a948cfa39119>\u001b[0m in \u001b[0;36m<module>\u001b[0;34m()\u001b[0m\n\u001b[1;32m      3\u001b[0m \u001b[0mt\u001b[0m \u001b[0;34m=\u001b[0m \u001b[0mspeed\u001b[0m\u001b[0;34m[\u001b[0m\u001b[0;34m:\u001b[0m\u001b[0;34m,\u001b[0m\u001b[0;36m0\u001b[0m\u001b[0;34m]\u001b[0m\u001b[0;34m\u001b[0m\u001b[0m\n\u001b[1;32m      4\u001b[0m \u001b[0mv\u001b[0m \u001b[0;34m=\u001b[0m \u001b[0mspeed\u001b[0m\u001b[0;34m[\u001b[0m\u001b[0;34m:\u001b[0m\u001b[0;34m,\u001b[0m\u001b[0;36m1\u001b[0m\u001b[0;34m]\u001b[0m\u001b[0;34m\u001b[0m\u001b[0m\n\u001b[0;32m----> 5\u001b[0;31m \u001b[0mC\u001b[0m \u001b[0;34m=\u001b[0m \u001b[0mintegrate\u001b[0m\u001b[0;34m.\u001b[0m\u001b[0mromb\u001b[0m\u001b[0;34m(\u001b[0m\u001b[0mv\u001b[0m\u001b[0;34m,\u001b[0m\u001b[0mdx\u001b[0m\u001b[0;34m=\u001b[0m\u001b[0;36m1.0\u001b[0m\u001b[0;34m)\u001b[0m\u001b[0;34m\u001b[0m\u001b[0m\n\u001b[0m",
        "\u001b[0;32m/Library/Frameworks/EPD64.framework/Versions/7.3/lib/python2.7/site-packages/scipy/integrate/quadrature.py\u001b[0m in \u001b[0;36mromb\u001b[0;34m(y, dx, axis, show)\u001b[0m\n\u001b[1;32m    400\u001b[0m         \u001b[0mk\u001b[0m \u001b[0;34m+=\u001b[0m \u001b[0;36m1\u001b[0m\u001b[0;34m\u001b[0m\u001b[0m\n\u001b[1;32m    401\u001b[0m     \u001b[0;32mif\u001b[0m \u001b[0mn\u001b[0m \u001b[0;34m!=\u001b[0m \u001b[0mNinterv\u001b[0m\u001b[0;34m:\u001b[0m\u001b[0;34m\u001b[0m\u001b[0m\n\u001b[0;32m--> 402\u001b[0;31m         raise ValueError(\"Number of samples must be one plus a \"\n\u001b[0m\u001b[1;32m    403\u001b[0m                 \"non-negative power of 2.\")\n\u001b[1;32m    404\u001b[0m \u001b[0;34m\u001b[0m\u001b[0m\n",
        "\u001b[0;31mValueError\u001b[0m: Number of samples must be one plus a non-negative power of 2."
       ]
      }
     ],
     "prompt_number": 41
    },
    {
     "cell_type": "markdown",
     "metadata": {},
     "source": [
      "part b.\n",
      "-"
     ]
    },
    {
     "cell_type": "code",
     "collapsed": false,
     "input": [
      "print B - A #trapz vs simps\n",
      "print C - A #trapz vs romb\n",
      "print B - C #simps vs romb"
     ],
     "language": "python",
     "metadata": {},
     "outputs": [
      {
       "ename": "NameError",
       "evalue": "name 'C' is not defined",
       "output_type": "pyerr",
       "traceback": [
        "\u001b[0;31m---------------------------------------------------------------------------\u001b[0m\n\u001b[0;31mNameError\u001b[0m                                 Traceback (most recent call last)",
        "\u001b[0;32m<ipython-input-42-baab145bf68e>\u001b[0m in \u001b[0;36m<module>\u001b[0;34m()\u001b[0m\n\u001b[1;32m      1\u001b[0m \u001b[0;32mprint\u001b[0m \u001b[0mB\u001b[0m \u001b[0;34m-\u001b[0m \u001b[0mA\u001b[0m \u001b[0;31m#trapz vs simps\u001b[0m\u001b[0;34m\u001b[0m\u001b[0m\n\u001b[0;32m----> 2\u001b[0;31m \u001b[0;32mprint\u001b[0m \u001b[0mC\u001b[0m \u001b[0;34m-\u001b[0m \u001b[0mA\u001b[0m \u001b[0;31m#trapz vs romb\u001b[0m\u001b[0;34m\u001b[0m\u001b[0m\n\u001b[0m\u001b[1;32m      3\u001b[0m \u001b[0;32mprint\u001b[0m \u001b[0mB\u001b[0m \u001b[0;34m-\u001b[0m \u001b[0mC\u001b[0m \u001b[0;31m#simps vs romb\u001b[0m\u001b[0;34m\u001b[0m\u001b[0m\n",
        "\u001b[0;31mNameError\u001b[0m: name 'C' is not defined"
       ]
      },
      {
       "output_type": "stream",
       "stream": "stdout",
       "text": [
        "0.003766\n"
       ]
      }
     ],
     "prompt_number": 42
    },
    {
     "cell_type": "code",
     "collapsed": false,
     "input": [
      "plot(t,v, 'r:')\n",
      "xlabel('time (sec)')\n",
      "ylabel('velocity (m/sec)')\n",
      "trap = np.zeros("
     ],
     "language": "python",
     "metadata": {},
     "outputs": [
      {
       "output_type": "pyout",
       "prompt_number": 48,
       "text": [
        "<matplotlib.text.Text at 0x10a79a510>"
       ]
      },
      {
       "output_type": "display_data",
       "png": "[encoded data removed]"
      }
     ],
     "prompt_number": 48
    },
    {
     "cell_type": "code",
     "collapsed": false,
     "input": [],
     "language": "python",
     "metadata": {},
     "outputs": []
    }
   ],
   "metadata": {}
  }
 ]
}